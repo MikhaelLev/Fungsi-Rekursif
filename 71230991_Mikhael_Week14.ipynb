{
 "cells": [
  {
   "cell_type": "code",
   "execution_count": 1,
   "metadata": {},
   "outputs": [
    {
     "name": "stdout",
     "output_type": "stream",
     "text": [
      "37 adalah bilangan prima\n"
     ]
    }
   ],
   "source": [
    "def mariMembantuVidi(n, i = 2):\n",
    "    if n <= 2:\n",
    "        return n == 2\n",
    "    if n % i == 0:\n",
    "        return False\n",
    "    if i * i > n:\n",
    "        return True\n",
    "    return mariMembantuVidi(n, i + 1)\n",
    "\n",
    "inputan = int(input(\"Masukkan sebuah bilangan untuk dicek : \"))\n",
    "if mariMembantuVidi(inputan):\n",
    "    print(f\"{inputan} adalah bilangan prima\")\n",
    "else:\n",
    "    print(f\"{inputan} bukan bilangan prima\")\n"
   ]
  },
  {
   "cell_type": "code",
   "execution_count": 2,
   "metadata": {},
   "outputs": [
    {
     "name": "stdout",
     "output_type": "stream",
     "text": [
      "'Kasur Rusak' adalah palindrom\n",
      "'Bestindo Music' bukan palindrom\n"
     ]
    }
   ],
   "source": [
    "def palindrom(kalimat):\n",
    "    kalimat = ''.join(filter(str.isalnum, kalimat)).lower()\n",
    "    \n",
    "    def periksaPalindrom(s, start, end):\n",
    "        if start >= end:\n",
    "            return True\n",
    "        if s[start] != s[end]:\n",
    "            return False\n",
    "        return periksaPalindrom(s, start + 1, end - 1)\n",
    "    \n",
    "    return periksaPalindrom(kalimat, 0, len(kalimat) - 1)\n",
    "\n",
    "kalimat1 = \"Kasur Rusak\"\n",
    "kalimat2 = \"Bestindo Music\"\n",
    "\n",
    "if palindrom(kalimat1):\n",
    "    print(f\"'{kalimat1}' adalah palindrom\")\n",
    "else:\n",
    "    print(f\"'{kalimat1}' bukan palindrom\")\n",
    "\n",
    "if palindrom(kalimat2):\n",
    "    print(f\"'{kalimat2}' adalah palindrom\")\n",
    "else:\n",
    "    print(f\"'{kalimat2}' bukan palindrom\")\n"
   ]
  },
  {
   "cell_type": "code",
   "execution_count": 4,
   "metadata": {},
   "outputs": [
    {
     "name": "stdout",
     "output_type": "stream",
     "text": [
      "Jumlah deret ganjil dari 1 sampai 13 adalah: 49\n"
     ]
    }
   ],
   "source": [
    "def jumlah_deretGanjil(bilangan):\n",
    "    if bilangan <= 1:\n",
    "        return bilangan\n",
    "    if bilangan % 2 == 1:\n",
    "        return bilangan + jumlah_deretGanjil(bilangan - 2)\n",
    "    else:\n",
    "        return jumlah_deretGanjil(bilangan - 1)\n",
    "\n",
    "inputan = int(input(\"Masukkan jumlah deret ganjil yang diinginkan : \"))\n",
    "print(f\"Jumlah deret ganjil dari 1 sampai {inputan} adalah: {jumlah_deretGanjil(inputan)}\")\n"
   ]
  },
  {
   "cell_type": "code",
   "execution_count": 5,
   "metadata": {},
   "outputs": [
    {
     "name": "stdout",
     "output_type": "stream",
     "text": [
      "Jumlah digit dari 141 adalah: 6\n"
     ]
    }
   ],
   "source": [
    "def penjumlahan_digit(bilangan):\n",
    "    if bilangan < 10:\n",
    "        return bilangan\n",
    "    else:\n",
    "        return bilangan % 10 + penjumlahan_digit(bilangan // 10)\n",
    "\n",
    "inputan = int(input(\"Masukkan angka yang akan dijumlahkan digitnya : \"))\n",
    "print(f\"Jumlah digit dari {inputan} adalah: {penjumlahan_digit(inputan)}\")\n",
    "\n"
   ]
  },
  {
   "cell_type": "code",
   "execution_count": 6,
   "metadata": {},
   "outputs": [
    {
     "name": "stdout",
     "output_type": "stream",
     "text": [
      "Kombinasi C(3, 2) adalah: 3\n"
     ]
    }
   ],
   "source": [
    "def kombinasi(n, k):\n",
    "    if k == 0 or k == n:\n",
    "        return 1\n",
    "    return kombinasi(n - 1, k - 1) + kombinasi(n - 1, k)\n",
    "\n",
    "n = 3\n",
    "k = 2\n",
    "print(f\"Kombinasi C({n}, {k}) adalah: {kombinasi(n, k)}\")"
   ]
  }
 ],
 "metadata": {
  "kernelspec": {
   "display_name": "Python 3",
   "language": "python",
   "name": "python3"
  },
  "language_info": {
   "codemirror_mode": {
    "name": "ipython",
    "version": 3
   },
   "file_extension": ".py",
   "mimetype": "text/x-python",
   "name": "python",
   "nbconvert_exporter": "python",
   "pygments_lexer": "ipython3",
   "version": "3.12.1"
  }
 },
 "nbformat": 4,
 "nbformat_minor": 2
}
